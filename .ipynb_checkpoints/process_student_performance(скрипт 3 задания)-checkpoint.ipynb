{
 "cells": [
  {
   "cell_type": "code",
   "execution_count": null,
   "id": "e6b2ea4a-b8ae-4d7d-9202-8e7e5e3ace8f",
   "metadata": {},
   "outputs": [],
   "source": [
    "import pandas as pd\n",
    "import re\n",
    "\n",
    "def clean_student_id(student_id):\n",
    "    \"\"\"Функция для очистки student_id, оставляя только числовые символы.\"\"\"\n",
    "    return re.sub(r'\\D+', '', str(student_id))\n",
    "\n",
    "def process_student_performance(input_file='data/StudentsPerformanceFinal.xlsx', output_file='output_data/processed_student_data.xlsx'):\n",
    "    # Загрузка данных\n",
    "    df = pd.read_excel(input_file)\n",
    "    \n",
    "    # Удаление студентов с отсутствующими оценками по 2 и более предметам\n",
    "    df['missing_scores'] = df[['math_score', 'reading_score', 'writing_score']].isnull().sum(axis=1)\n",
    "    df = df[df['missing_scores'] < 2].drop(columns=['missing_scores'])\n",
    "\n",
    "    # Замена отсутствующих оценок медианой по этому предмету\n",
    "    df['math_score'].fillna(df['math_score'].median(), inplace=True)\n",
    "    df['reading_score'].fillna(df['reading_score'].median(), inplace=True)\n",
    "    df['writing_score'].fillna(df['writing_score'].median(), inplace=True)\n",
    "\n",
    "    # Очистка столбца student_id\n",
    "    df['student_id'] = df['student_id'].apply(clean_student_id)\n",
    "\n",
    "    # Расчет средневзвешенной оценки\n",
    "    df['weighted_average'] = (\n",
    "        df['math_score'] * 0.5 +\n",
    "        df['reading_score'] * 0.2 +\n",
    "        df['writing_score'] * 0.3\n",
    "    )\n",
    "\n",
    "    # Сортировка по средневзвешенной оценке в порядке убывания\n",
    "    df = df.sort_values(by='weighted_average', ascending=False)\n",
    "\n",
    "    # Фильтрация студентов с weighted_average > 70\n",
    "    filtered_df = df[df['weighted_average'] > 70]\n",
    "\n",
    "    # Сохранение обработанных данных\n",
    "    filtered_df.to_excel(output_file, index=False)\n",
    "    print(f\"Обработанные данные сохранены в {output_file}\")\n",
    "\n",
    "if __name__ == \"__main__\":\n",
    "    process_student_performance()\n"
   ]
  }
 ],
 "metadata": {
  "kernelspec": {
   "display_name": "myenv",
   "language": "python",
   "name": "myenv"
  },
  "language_info": {
   "codemirror_mode": {
    "name": "ipython",
    "version": 3
   },
   "file_extension": ".py",
   "mimetype": "text/x-python",
   "name": "python",
   "nbconvert_exporter": "python",
   "pygments_lexer": "ipython3",
   "version": "3.12.4"
  }
 },
 "nbformat": 4,
 "nbformat_minor": 5
}
